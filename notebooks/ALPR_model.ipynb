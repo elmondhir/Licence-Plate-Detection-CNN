{
  "nbformat": 4,
  "nbformat_minor": 0,
  "metadata": {
    "colab": {
      "name": "ALPR model",
      "provenance": [],
      "collapsed_sections": [
        "Ybjrf9gVg1CZ"
      ]
    },
    "kernelspec": {
      "display_name": "Python 3",
      "name": "python3"
    },
    "language_info": {
      "name": "python"
    },
    "accelerator": "GPU"
  },
  "cells": [
    {
      "cell_type": "markdown",
      "metadata": {
        "id": "L1gPd-idYPF3"
      },
      "source": [
        "<center><strong><h1>licence plate detection"
      ]
    },
    {
      "cell_type": "code",
      "metadata": {
        "id": "0xZ6hidUTjbX"
      },
      "source": [
        "import matplotlib.pyplot as plt\n",
        "import cv2\n",
        "import numpy as np\n",
        "import os\n",
        "import glob\n",
        "import matplotlib.pyplot as plt\n",
        "from PIL import Image\n",
        "plt.style.use('default')  #using black for backgrounf"
      ],
      "execution_count": 1,
      "outputs": []
    },
    {
      "cell_type": "markdown",
      "metadata": {
        "id": "6AXZz-Gdf56I"
      },
      "source": [
        "##Setting up kaggle API to download dataset directly from their Website"
      ]
    },
    {
      "cell_type": "code",
      "metadata": {
        "colab": {
          "resources": {
            "http://localhost:8080/nbextensions/google.colab/files.js": {
              "data": "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",
              "ok": true,
              "headers": [
                [
                  "content-type",
                  "application/javascript"
                ]
              ],
              "status": 200,
              "status_text": ""
            }
          },
          "base_uri": "https://localhost:8080/",
          "height": 90
        },
        "id": "dXHP2DeoTXkK",
        "outputId": "f6a809a0-128e-416c-f3a5-9500382a391a"
      },
      "source": [
        "from google.colab import files\n",
        "files.upload() "
      ],
      "execution_count": 2,
      "outputs": [
        {
          "output_type": "display_data",
          "data": {
            "text/plain": [
              "<IPython.core.display.HTML object>"
            ],
            "text/html": [
              "\n",
              "     <input type=\"file\" id=\"files-84f87cc1-d902-450f-a1b0-02392ea42139\" name=\"files[]\" multiple disabled\n",
              "        style=\"border:none\" />\n",
              "     <output id=\"result-84f87cc1-d902-450f-a1b0-02392ea42139\">\n",
              "      Upload widget is only available when the cell has been executed in the\n",
              "      current browser session. Please rerun this cell to enable.\n",
              "      </output>\n",
              "      <script src=\"/nbextensions/google.colab/files.js\"></script> "
            ]
          },
          "metadata": {}
        },
        {
          "output_type": "stream",
          "name": "stdout",
          "text": [
            "Saving kaggle.json to kaggle.json\n"
          ]
        },
        {
          "output_type": "execute_result",
          "data": {
            "text/plain": [
              "{'kaggle.json': b'{\"username\":\"mondhirch\",\"key\":\"03a491ad2fe5eb1a1d2cdacf1282a741\"}'}"
            ]
          },
          "metadata": {},
          "execution_count": 2
        }
      ]
    },
    {
      "cell_type": "code",
      "metadata": {
        "id": "YeRAQAfwTc41"
      },
      "source": [
        "!mkdir -p ~/.kaggle\n",
        "!cp kaggle.json ~/.kaggle/\n",
        "\n",
        "#Change the permission\n",
        "!chmod 600 ~/.kaggle/kaggle.json"
      ],
      "execution_count": 3,
      "outputs": []
    },
    {
      "cell_type": "markdown",
      "source": [
        "## Downloading the datasets"
      ],
      "metadata": {
        "id": "BIlVo8rALMHC"
      }
    },
    {
      "cell_type": "code",
      "source": [
        "#The big dataset\n",
        "!kaggle datasets download -d xairete/car-plates-ocr"
      ],
      "metadata": {
        "colab": {
          "base_uri": "https://localhost:8080/"
        },
        "id": "renZtSFWTj6_",
        "outputId": "73e431ce-1eb1-4a79-c138-5ef96a49cc33"
      },
      "execution_count": 4,
      "outputs": [
        {
          "output_type": "stream",
          "name": "stdout",
          "text": [
            "Downloading car-plates-ocr.zip to /content\n",
            "100% 6.04G/6.05G [00:35<00:00, 202MB/s]\n",
            "100% 6.05G/6.05G [00:35<00:00, 182MB/s]\n"
          ]
        }
      ]
    },
    {
      "cell_type": "markdown",
      "source": [
        "### Unzipping"
      ],
      "metadata": {
        "id": "p3NynmVALfJ0"
      }
    },
    {
      "cell_type": "code",
      "source": [
        "from zipfile import ZipFile\n",
        "file_name=\"car-plates-ocr.zip\"\n",
        "\n",
        "with ZipFile(file_name,\"r\") as zip:\n",
        "  zip.extractall()\n",
        "  print(\"Done\")"
      ],
      "metadata": {
        "colab": {
          "base_uri": "https://localhost:8080/"
        },
        "id": "sBDgrNm0TvsN",
        "outputId": "ac8dc2f4-70ae-42f5-e30d-f2f13dc10186"
      },
      "execution_count": 5,
      "outputs": [
        {
          "output_type": "stream",
          "name": "stdout",
          "text": [
            "Done\n"
          ]
        }
      ]
    },
    {
      "cell_type": "markdown",
      "source": [
        "## Data Preperation"
      ],
      "metadata": {
        "id": "0HRvpLM_U0Jl"
      }
    },
    {
      "cell_type": "code",
      "source": [
        "!mkdir \"/content/data/train_jpg/\"\n",
        "!mv \"/content/data/train/\"*.jpg \"/content/data/train_jpg/\"\n"
      ],
      "metadata": {
        "id": "5x9hfGfIU11C"
      },
      "execution_count": 6,
      "outputs": []
    },
    {
      "cell_type": "code",
      "source": [
        "#move a sample 1000 out of 17000 to do check\n",
        "!mkdir \"/content/data/train_3000/\"\n",
        "!ls /content/data/train_jpg/* | head -3000 | xargs -I{} cp {} /content/data/train_3000/"
      ],
      "metadata": {
        "id": "tWCa-wuVVd6O"
      },
      "execution_count": 11,
      "outputs": []
    },
    {
      "cell_type": "markdown",
      "source": [
        "## Appending Images to X[] (big datatset)"
      ],
      "metadata": {
        "id": "YvUG3FE-V-_b"
      }
    },
    {
      "cell_type": "markdown",
      "source": [
        "### we need anotations before"
      ],
      "metadata": {
        "id": "17X6broOWR6V"
      }
    },
    {
      "cell_type": "code",
      "source": [
        "import json\n",
        "with open(\"/content/data/train.json\", \"r\") as read_file:\n",
        "    data = json.load(read_file)\n"
      ],
      "metadata": {
        "id": "Fo_g4QRBWRNA"
      },
      "execution_count": 3,
      "outputs": []
    },
    {
      "cell_type": "code",
      "source": [
        "IMAGE_SIZE = 224\n",
        "\n",
        "img_dir = \"/content/data/train_3000\" # Enter Directory of all images \n",
        "data_path = os.path.join(img_dir,'*g')\n",
        "files = glob.glob(data_path)\n",
        "\n",
        "#We sort the images in alphabetical order to match them to the xml files containing the annotations of the bounding boxes\n",
        "files.sort() \n",
        "\n",
        "X=[]\n",
        "y=[]\n",
        "for f1 in files:\n",
        "    img = cv2.imread(f1)\n",
        "    height = img.shape[0]\n",
        "    width = img.shape[1]\n",
        "    img = cv2.resize(img, (IMAGE_SIZE,IMAGE_SIZE))\n",
        "    X.append(img)\n",
        "    path_list = f1.split(os.sep)\n",
        "    file_name=path_list[-1]\n",
        "    index=int(file_name[:-4])\n",
        "    y.append([ int(data[index]['nums'][0][\"box\"][0][0]/(width/IMAGE_SIZE)), int(data[index]['nums'][0][\"box\"][0][1]/(height/IMAGE_SIZE)), int(data[index]['nums'][0][\"box\"][2][0]/(width/IMAGE_SIZE)), int(data[index]['nums'][0][\"box\"][2][1]/(height/IMAGE_SIZE))])\n",
        "    "
      ],
      "metadata": {
        "id": "uSlsBo9HWEP3"
      },
      "execution_count": 4,
      "outputs": []
    },
    {
      "cell_type": "markdown",
      "metadata": {
        "id": "-Yfj6_F93NYP"
      },
      "source": [
        "## Transforming To Ndarray"
      ]
    },
    {
      "cell_type": "code",
      "metadata": {
        "id": "jS7d1Jk11wsZ"
      },
      "source": [
        "X=np.array(X)\n",
        "y=np.array(y)"
      ],
      "execution_count": 5,
      "outputs": []
    },
    {
      "cell_type": "code",
      "metadata": {
        "id": "_Uk9nlk41wqX"
      },
      "source": [
        "#Renormalisation\n",
        "X = X / 255\n",
        "y = y / 255"
      ],
      "execution_count": 6,
      "outputs": []
    },
    {
      "cell_type": "markdown",
      "source": [
        "## Split the data"
      ],
      "metadata": {
        "id": "nHGzU8ApHKKt"
      }
    },
    {
      "cell_type": "code",
      "metadata": {
        "id": "iZDi8VtO1wm9"
      },
      "source": [
        "from sklearn.model_selection import train_test_split\n",
        "X_train, X_test, y_train, y_test = train_test_split(X, y, test_size=0.2, random_state=42)\n",
        "\n",
        "X_train, X_val, y_train, y_val = train_test_split(X_train, y_train, test_size=0.1, random_state=42)"
      ],
      "execution_count": 7,
      "outputs": []
    },
    {
      "cell_type": "markdown",
      "source": [
        "## Creating the model"
      ],
      "metadata": {
        "id": "AaGzZQFpHQOy"
      }
    },
    {
      "cell_type": "code",
      "metadata": {
        "id": "AzNs09hl1wlD"
      },
      "source": [
        "from keras.models import Sequential\n",
        "from keras.layers import Dense, Flatten\n",
        "from keras.applications.vgg16 import VGG16"
      ],
      "execution_count": 8,
      "outputs": []
    },
    {
      "cell_type": "code",
      "metadata": {
        "colab": {
          "base_uri": "https://localhost:8080/"
        },
        "id": "QnEk8fYE1wib",
        "outputId": "e36f1511-8244-486d-be4d-e081798eedf3"
      },
      "source": [
        "# Create the model\n",
        "model = Sequential()\n",
        "model.add(VGG16(weights=\"imagenet\", include_top=False, input_shape=(IMAGE_SIZE, IMAGE_SIZE, 3)))\n",
        "model.add(Flatten())\n",
        "model.add(Dense(128, activation=\"relu\"))\n",
        "model.add(Dense(128, activation=\"relu\"))\n",
        "model.add(Dense(64, activation=\"relu\"))\n",
        "model.add(Dense(4, activation=\"sigmoid\"))\n",
        "\n",
        "model.layers[-6].trainable = False\n",
        "\n",
        "model.summary()"
      ],
      "execution_count": 9,
      "outputs": [
        {
          "output_type": "stream",
          "name": "stdout",
          "text": [
            "Model: \"sequential\"\n",
            "_________________________________________________________________\n",
            " Layer (type)                Output Shape              Param #   \n",
            "=================================================================\n",
            " vgg16 (Functional)          (None, 7, 7, 512)         14714688  \n",
            "                                                                 \n",
            " flatten (Flatten)           (None, 25088)             0         \n",
            "                                                                 \n",
            " dense (Dense)               (None, 128)               3211392   \n",
            "                                                                 \n",
            " dense_1 (Dense)             (None, 128)               16512     \n",
            "                                                                 \n",
            " dense_2 (Dense)             (None, 64)                8256      \n",
            "                                                                 \n",
            " dense_3 (Dense)             (None, 4)                 260       \n",
            "                                                                 \n",
            "=================================================================\n",
            "Total params: 17,951,108\n",
            "Trainable params: 3,236,420\n",
            "Non-trainable params: 14,714,688\n",
            "_________________________________________________________________\n"
          ]
        }
      ]
    },
    {
      "cell_type": "code",
      "metadata": {
        "id": "xzp7sKSD1wfV"
      },
      "source": [
        "model.compile(loss='mean_squared_error', optimizer='adam', metrics=['accuracy'])"
      ],
      "execution_count": 10,
      "outputs": []
    },
    {
      "cell_type": "code",
      "metadata": {
        "id": "UQG103_K3XsX",
        "colab": {
          "base_uri": "https://localhost:8080/"
        },
        "outputId": "5fae2eb6-70cb-4ad5-dacd-a88466d393d6"
      },
      "source": [
        "#training the model\n",
        "train = model.fit(X_train, y_train, validation_data=(X_val, y_val), epochs=50, batch_size=32, verbose=1)"
      ],
      "execution_count": 11,
      "outputs": [
        {
          "output_type": "stream",
          "name": "stdout",
          "text": [
            "Epoch 1/50\n",
            "68/68 [==============================] - 26s 194ms/step - loss: 0.1237 - accuracy: 0.0148 - val_loss: 0.0825 - val_accuracy: 0.0083\n",
            "Epoch 2/50\n",
            "68/68 [==============================] - 11s 161ms/step - loss: 0.0345 - accuracy: 0.3991 - val_loss: 0.0055 - val_accuracy: 0.7875\n",
            "Epoch 3/50\n",
            "68/68 [==============================] - 11s 162ms/step - loss: 0.0042 - accuracy: 0.8440 - val_loss: 0.0045 - val_accuracy: 0.8583\n",
            "Epoch 4/50\n",
            "68/68 [==============================] - 11s 162ms/step - loss: 0.0021 - accuracy: 0.9083 - val_loss: 0.0045 - val_accuracy: 0.8333\n",
            "Epoch 5/50\n",
            "68/68 [==============================] - 11s 164ms/step - loss: 0.0013 - accuracy: 0.9449 - val_loss: 0.0044 - val_accuracy: 0.8833\n",
            "Epoch 6/50\n",
            "68/68 [==============================] - 11s 166ms/step - loss: 9.4614e-04 - accuracy: 0.9444 - val_loss: 0.0047 - val_accuracy: 0.8750\n",
            "Epoch 7/50\n",
            "68/68 [==============================] - 11s 166ms/step - loss: 7.5503e-04 - accuracy: 0.9468 - val_loss: 0.0052 - val_accuracy: 0.8667\n",
            "Epoch 8/50\n",
            "68/68 [==============================] - 11s 167ms/step - loss: 5.2533e-04 - accuracy: 0.9611 - val_loss: 0.0049 - val_accuracy: 0.8708\n",
            "Epoch 9/50\n",
            "68/68 [==============================] - 11s 168ms/step - loss: 3.7451e-04 - accuracy: 0.9597 - val_loss: 0.0046 - val_accuracy: 0.8875\n",
            "Epoch 10/50\n",
            "68/68 [==============================] - 11s 169ms/step - loss: 3.5094e-04 - accuracy: 0.9597 - val_loss: 0.0045 - val_accuracy: 0.8958\n",
            "Epoch 11/50\n",
            "68/68 [==============================] - 12s 170ms/step - loss: 3.4983e-04 - accuracy: 0.9653 - val_loss: 0.0047 - val_accuracy: 0.8667\n",
            "Epoch 12/50\n",
            "68/68 [==============================] - 12s 171ms/step - loss: 3.0109e-04 - accuracy: 0.9625 - val_loss: 0.0047 - val_accuracy: 0.8917\n",
            "Epoch 13/50\n",
            "68/68 [==============================] - 12s 172ms/step - loss: 3.5670e-04 - accuracy: 0.9616 - val_loss: 0.0048 - val_accuracy: 0.8750\n",
            "Epoch 14/50\n",
            "68/68 [==============================] - 12s 173ms/step - loss: 4.9292e-04 - accuracy: 0.9514 - val_loss: 0.0048 - val_accuracy: 0.8917\n",
            "Epoch 15/50\n",
            "68/68 [==============================] - 12s 174ms/step - loss: 4.1557e-04 - accuracy: 0.9602 - val_loss: 0.0051 - val_accuracy: 0.8667\n",
            "Epoch 16/50\n",
            "68/68 [==============================] - 12s 174ms/step - loss: 3.1896e-04 - accuracy: 0.9653 - val_loss: 0.0049 - val_accuracy: 0.8708\n",
            "Epoch 17/50\n",
            "68/68 [==============================] - 12s 174ms/step - loss: 3.0561e-04 - accuracy: 0.9648 - val_loss: 0.0046 - val_accuracy: 0.8833\n",
            "Epoch 18/50\n",
            "68/68 [==============================] - 12s 175ms/step - loss: 2.2645e-04 - accuracy: 0.9718 - val_loss: 0.0046 - val_accuracy: 0.8917\n",
            "Epoch 19/50\n",
            "68/68 [==============================] - 12s 175ms/step - loss: 1.6467e-04 - accuracy: 0.9801 - val_loss: 0.0045 - val_accuracy: 0.8833\n",
            "Epoch 20/50\n",
            "68/68 [==============================] - 12s 177ms/step - loss: 1.7038e-04 - accuracy: 0.9722 - val_loss: 0.0045 - val_accuracy: 0.8750\n",
            "Epoch 21/50\n",
            "68/68 [==============================] - 12s 177ms/step - loss: 1.7715e-04 - accuracy: 0.9769 - val_loss: 0.0045 - val_accuracy: 0.8792\n",
            "Epoch 22/50\n",
            "68/68 [==============================] - 12s 177ms/step - loss: 1.5955e-04 - accuracy: 0.9801 - val_loss: 0.0046 - val_accuracy: 0.8833\n",
            "Epoch 23/50\n",
            "68/68 [==============================] - 12s 178ms/step - loss: 1.4620e-04 - accuracy: 0.9801 - val_loss: 0.0044 - val_accuracy: 0.8958\n",
            "Epoch 24/50\n",
            "68/68 [==============================] - 12s 178ms/step - loss: 1.5906e-04 - accuracy: 0.9792 - val_loss: 0.0049 - val_accuracy: 0.8500\n",
            "Epoch 25/50\n",
            "68/68 [==============================] - 12s 179ms/step - loss: 2.7508e-04 - accuracy: 0.9699 - val_loss: 0.0046 - val_accuracy: 0.8792\n",
            "Epoch 26/50\n",
            "68/68 [==============================] - 12s 179ms/step - loss: 3.4677e-04 - accuracy: 0.9648 - val_loss: 0.0045 - val_accuracy: 0.8958\n",
            "Epoch 27/50\n",
            "68/68 [==============================] - 12s 179ms/step - loss: 2.9898e-04 - accuracy: 0.9653 - val_loss: 0.0047 - val_accuracy: 0.8458\n",
            "Epoch 28/50\n",
            "68/68 [==============================] - 12s 179ms/step - loss: 2.5447e-04 - accuracy: 0.9694 - val_loss: 0.0044 - val_accuracy: 0.8792\n",
            "Epoch 29/50\n",
            "68/68 [==============================] - 12s 179ms/step - loss: 3.0093e-04 - accuracy: 0.9727 - val_loss: 0.0047 - val_accuracy: 0.8458\n",
            "Epoch 30/50\n",
            "68/68 [==============================] - 12s 180ms/step - loss: 2.3223e-04 - accuracy: 0.9690 - val_loss: 0.0045 - val_accuracy: 0.8750\n",
            "Epoch 31/50\n",
            "68/68 [==============================] - 12s 179ms/step - loss: 1.8801e-04 - accuracy: 0.9694 - val_loss: 0.0044 - val_accuracy: 0.8875\n",
            "Epoch 32/50\n",
            "68/68 [==============================] - 12s 180ms/step - loss: 1.6227e-04 - accuracy: 0.9750 - val_loss: 0.0046 - val_accuracy: 0.8750\n",
            "Epoch 33/50\n",
            "68/68 [==============================] - 12s 180ms/step - loss: 1.7747e-04 - accuracy: 0.9713 - val_loss: 0.0047 - val_accuracy: 0.8708\n",
            "Epoch 34/50\n",
            "68/68 [==============================] - 12s 180ms/step - loss: 1.8810e-04 - accuracy: 0.9713 - val_loss: 0.0046 - val_accuracy: 0.8583\n",
            "Epoch 35/50\n",
            "68/68 [==============================] - 12s 179ms/step - loss: 1.7785e-04 - accuracy: 0.9745 - val_loss: 0.0044 - val_accuracy: 0.8792\n",
            "Epoch 36/50\n",
            "68/68 [==============================] - 12s 180ms/step - loss: 1.2734e-04 - accuracy: 0.9792 - val_loss: 0.0045 - val_accuracy: 0.8792\n",
            "Epoch 37/50\n",
            "68/68 [==============================] - 12s 180ms/step - loss: 1.3368e-04 - accuracy: 0.9773 - val_loss: 0.0044 - val_accuracy: 0.8750\n",
            "Epoch 38/50\n",
            "68/68 [==============================] - 12s 180ms/step - loss: 1.1894e-04 - accuracy: 0.9773 - val_loss: 0.0044 - val_accuracy: 0.8708\n",
            "Epoch 39/50\n",
            "68/68 [==============================] - 12s 180ms/step - loss: 1.4650e-04 - accuracy: 0.9815 - val_loss: 0.0044 - val_accuracy: 0.9042\n",
            "Epoch 40/50\n",
            "68/68 [==============================] - 12s 180ms/step - loss: 1.6704e-04 - accuracy: 0.9745 - val_loss: 0.0045 - val_accuracy: 0.8875\n",
            "Epoch 41/50\n",
            "68/68 [==============================] - 12s 179ms/step - loss: 2.0456e-04 - accuracy: 0.9745 - val_loss: 0.0044 - val_accuracy: 0.8833\n",
            "Epoch 42/50\n",
            "68/68 [==============================] - 12s 180ms/step - loss: 2.0284e-04 - accuracy: 0.9681 - val_loss: 0.0044 - val_accuracy: 0.8667\n",
            "Epoch 43/50\n",
            "68/68 [==============================] - 12s 180ms/step - loss: 1.5553e-04 - accuracy: 0.9750 - val_loss: 0.0045 - val_accuracy: 0.8833\n",
            "Epoch 44/50\n",
            "68/68 [==============================] - 12s 180ms/step - loss: 1.4148e-04 - accuracy: 0.9778 - val_loss: 0.0044 - val_accuracy: 0.8708\n",
            "Epoch 45/50\n",
            "68/68 [==============================] - 12s 180ms/step - loss: 1.2097e-04 - accuracy: 0.9796 - val_loss: 0.0044 - val_accuracy: 0.8792\n",
            "Epoch 46/50\n",
            "68/68 [==============================] - 12s 180ms/step - loss: 1.3852e-04 - accuracy: 0.9769 - val_loss: 0.0044 - val_accuracy: 0.8625\n",
            "Epoch 47/50\n",
            "68/68 [==============================] - 12s 180ms/step - loss: 1.5420e-04 - accuracy: 0.9713 - val_loss: 0.0044 - val_accuracy: 0.8667\n",
            "Epoch 48/50\n",
            "68/68 [==============================] - 12s 180ms/step - loss: 1.7150e-04 - accuracy: 0.9750 - val_loss: 0.0046 - val_accuracy: 0.8542\n",
            "Epoch 49/50\n",
            "68/68 [==============================] - 12s 180ms/step - loss: 1.8192e-04 - accuracy: 0.9694 - val_loss: 0.0045 - val_accuracy: 0.8458\n",
            "Epoch 50/50\n",
            "68/68 [==============================] - 12s 180ms/step - loss: 1.7250e-04 - accuracy: 0.9727 - val_loss: 0.0044 - val_accuracy: 0.8833\n"
          ]
        }
      ]
    },
    {
      "cell_type": "markdown",
      "metadata": {
        "id": "5pCecgss37pE"
      },
      "source": [
        "<h1> Testing"
      ]
    },
    {
      "cell_type": "code",
      "metadata": {
        "id": "ANZ80717SR-H",
        "colab": {
          "base_uri": "https://localhost:8080/"
        },
        "outputId": "875a62ad-739d-4542-89cb-a1060d538131"
      },
      "source": [
        "# Test\n",
        "scores = model.evaluate(X_test, y_test, verbose=0)\n",
        "print(\"Score : %.2f%%\" % (scores[1]*100))"
      ],
      "execution_count": 12,
      "outputs": [
        {
          "output_type": "stream",
          "name": "stdout",
          "text": [
            "Score : 90.33%\n"
          ]
        }
      ]
    },
    {
      "cell_type": "markdown",
      "source": [
        "## Plot Accuracy Curve"
      ],
      "metadata": {
        "id": "oiUFHnoSnppd"
      }
    },
    {
      "cell_type": "code",
      "metadata": {
        "id": "NyTJMW1-4EXD"
      },
      "source": [
        "def plot_scores(train) :\n",
        "    accuracy = train.history['accuracy']\n",
        "    val_accuracy = train.history['val_accuracy']\n",
        "    epochs = range(len(accuracy))\n",
        "    plt.plot(epochs, accuracy, 'b', label='Accuracy')\n",
        "    plt.plot(epochs, val_accuracy, 'r', label='Validation Accuracy')\n",
        "    plt.title('Accuracy')\n",
        "    plt.legend()\n",
        "    plt.show()"
      ],
      "execution_count": 13,
      "outputs": []
    },
    {
      "cell_type": "code",
      "metadata": {
        "colab": {
          "base_uri": "https://localhost:8080/",
          "height": 281
        },
        "id": "F88qP2Nb4GqM",
        "outputId": "cd3a4c1b-b051-46cc-cce3-1fb54d61134e"
      },
      "source": [
        "plot_scores(train)"
      ],
      "execution_count": 14,
      "outputs": [
        {
          "output_type": "display_data",
          "data": {
            "text/plain": [
              "<Figure size 432x288 with 1 Axes>"
            ],
            "image/png": "[encoded data removed]"
          },
          "metadata": {
            "needs_background": "light"
          }
        }
      ]
    },
    {
      "cell_type": "markdown",
      "metadata": {
        "id": "rU9Bk-wH-zja"
      },
      "source": [
        "<h2> Export the model"
      ]
    },
    {
      "cell_type": "code",
      "metadata": {
        "id": "z7IGo-t04LU4"
      },
      "source": [
        "model.save('my_model.h5') \n",
        "\n",
        "##### To load\n",
        "# new_model = tf.keras.models.load_model('saved_model/my_model')\n"
      ],
      "execution_count": 15,
      "outputs": []
    }
  ]
}